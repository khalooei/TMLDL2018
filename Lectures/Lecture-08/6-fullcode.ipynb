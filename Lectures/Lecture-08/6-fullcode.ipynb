{
 "cells": [
  {
   "cell_type": "code",
   "execution_count": 1,
   "metadata": {},
   "outputs": [
    {
     "name": "stderr",
     "output_type": "stream",
     "text": [
      "C:\\Users\\Yasin\\Anaconda3\\lib\\site-packages\\h5py\\__init__.py:34: FutureWarning: Conversion of the second argument of issubdtype from `float` to `np.floating` is deprecated. In future, it will be treated as `np.float64 == np.dtype(float).type`.\n",
      "  from ._conv import register_converters as _register_converters\n"
     ]
    }
   ],
   "source": [
    "import tensorflow as tf\n"
   ]
  },
  {
   "cell_type": "code",
   "execution_count": 2,
   "metadata": {
    "collapsed": true
   },
   "outputs": [],
   "source": [
    "\n",
    "# I define a \"shape-able\" Variable\n",
    "x = tf.Variable(\n",
    "    [], \n",
    "    dtype=tf.int32,\n",
    "    validate_shape=False, # By \"shape-able\", i mean we don't validate the shape\n",
    "    trainable=False\n",
    ")\n",
    "# I build a new shape and assign it to x\n",
    "concat = tf.concat([x, [0]], 0)\n",
    "assign_op = tf.assign(x, concat, validate_shape=False)\n"
   ]
  },
  {
   "cell_type": "code",
   "execution_count": 3,
   "metadata": {
    "collapsed": true
   },
   "outputs": [],
   "source": [
    "\n",
    "with tf.control_dependencies([assign_op]):\n",
    "    # I print x after the assignment\n",
    "    x = tf.Print(x, data=[x, x.read_value()], message=\"x, x_read:\")\n",
    "    # The assign_op is called, but it seems that print statement happens\n",
    "    # before the assignment, that is wrong.\n"
   ]
  },
  {
   "cell_type": "code",
   "execution_count": 5,
   "metadata": {},
   "outputs": [
    {
     "name": "stdout",
     "output_type": "stream",
     "text": [
      "[]\n",
      "[0]\n",
      "[0 0]\n"
     ]
    }
   ],
   "source": [
    "\n",
    "with tf.Session() as sess:\n",
    "    sess.run(tf.global_variables_initializer())\n",
    "    for i in range(3):\n",
    "        print(sess.run(x))\n",
    "\n",
    "# outputs:\n",
    "# x: []   , x_read:  [0]\n",
    "# x: [0]  , x_read:  [0 0]\n",
    "# x: [0 0], x_read:  [0 0 0]    "
   ]
  },
  {
   "cell_type": "code",
   "execution_count": null,
   "metadata": {
    "collapsed": true
   },
   "outputs": [],
   "source": []
  }
 ],
 "metadata": {
  "kernelspec": {
   "display_name": "Python 3",
   "language": "python",
   "name": "python3"
  },
  "language_info": {
   "codemirror_mode": {
    "name": "ipython",
    "version": 3
   },
   "file_extension": ".py",
   "mimetype": "text/x-python",
   "name": "python",
   "nbconvert_exporter": "python",
   "pygments_lexer": "ipython3",
   "version": "3.6.1"
  }
 },
 "nbformat": 4,
 "nbformat_minor": 2
}
