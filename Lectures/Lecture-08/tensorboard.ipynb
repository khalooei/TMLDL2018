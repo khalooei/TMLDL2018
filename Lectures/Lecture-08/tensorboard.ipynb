{
 "cells": [
  {
   "cell_type": "code",
   "execution_count": 23,
   "metadata": {},
   "outputs": [],
   "source": [
    "import tensorflow as tf"
   ]
  },
  {
   "cell_type": "code",
   "execution_count": 24,
   "metadata": {},
   "outputs": [
    {
     "name": "stdout",
     "output_type": "stream",
     "text": [
      "INFO:tensorflow:Summary name cc var is illegal; using cc_var instead.\n"
     ]
    },
    {
     "data": {
      "text/plain": [
       "<tf.Tensor 'cc_var_4:0' shape=() dtype=string>"
      ]
     },
     "execution_count": 24,
     "metadata": {},
     "output_type": "execute_result"
    }
   ],
   "source": [
    "a = tf.Variable(1.0,name='a')\n",
    "b = tf.constant(2.0,name='b')\n",
    "c = tf.constant(3.0,name='c')\n",
    "\n",
    "\n",
    "y = a*b-c\n",
    "\n",
    "y1 = tf.Variable(name='y1',initial_value=0,dtype=tf.float64)\n",
    "cc = tf.Variable(name='cc',initial_value=0,dtype=tf.float64)\n",
    "\n",
    "tf.summary.scalar(\"y\", y)\n",
    "\n",
    "tf.summary.scalar(\"cc var\", cc)\n",
    "#tf.summary.histogram(\"a\", a)\n",
    "#tf.summary.histogram(\"y\", y)"
   ]
  },
  {
   "cell_type": "code",
   "execution_count": 25,
   "metadata": {
    "collapsed": true
   },
   "outputs": [],
   "source": [
    "sess = tf.Session()\n",
    "\n",
    "initializer = tf.global_variables_initializer()\n",
    "\n",
    "sess.run(initializer)\n"
   ]
  },
  {
   "cell_type": "code",
   "execution_count": 26,
   "metadata": {},
   "outputs": [
    {
     "name": "stdout",
     "output_type": "stream",
     "text": [
      "a:0\n",
      "y1:0\n",
      "cc:0\n",
      "a_1:0\n",
      "y1_1:0\n",
      "cc_1:0\n",
      "a_2:0\n",
      "y1_2:0\n",
      "cc_2:0\n",
      "a_3:0\n",
      "y1_3:0\n",
      "cc_3:0\n",
      "a_4:0\n",
      "y1_4:0\n",
      "cc_4:0\n"
     ]
    },
    {
     "data": {
      "text/plain": [
       "[None,\n",
       " None,\n",
       " None,\n",
       " None,\n",
       " None,\n",
       " None,\n",
       " None,\n",
       " None,\n",
       " None,\n",
       " None,\n",
       " None,\n",
       " None,\n",
       " None,\n",
       " None,\n",
       " None]"
      ]
     },
     "execution_count": 26,
     "metadata": {},
     "output_type": "execute_result"
    }
   ],
   "source": [
    "[print(v.name) for v in tf.global_variables()]"
   ]
  },
  {
   "cell_type": "code",
   "execution_count": 27,
   "metadata": {
    "collapsed": true
   },
   "outputs": [],
   "source": [
    "\n",
    "train_writer = tf.summary.FileWriter( './logs/', sess.graph)"
   ]
  },
  {
   "cell_type": "code",
   "execution_count": 28,
   "metadata": {},
   "outputs": [
    {
     "name": "stdout",
     "output_type": "stream",
     "text": [
      "2.0 2.0\n",
      "20.0 4.0\n",
      "202.0 6.0\n",
      "3352.0 8.0\n",
      "107574.0 10.0\n",
      "6885492.0 12.0\n",
      "881344754.0 14.0\n",
      "225624261104.0 16.0\n",
      "115519621694446.0 18.0\n",
      "1.1829209261513317e+17 20.0\n"
     ]
    }
   ],
   "source": [
    "\n",
    "merge = tf.summary.merge_all()\n",
    "\n",
    "# summary = sess.run(merge)\n",
    "# ouput = sess.run(y)\n",
    "for counter in range(0,10):\n",
    "    c = tf.assign(cc,cc+2)\n",
    "    y1 = tf.assign(y1,y1*2+c)\n",
    "    summary, output,output2 = sess.run([merge,y1,c])\n",
    "    print(output,output2)\n",
    "    train_writer.add_summary(summary, global_step=counter)\n",
    "    \n",
    "    \n",
    "sess.close()"
   ]
  },
  {
   "cell_type": "code",
   "execution_count": null,
   "metadata": {
    "collapsed": true
   },
   "outputs": [],
   "source": []
  },
  {
   "cell_type": "code",
   "execution_count": null,
   "metadata": {
    "collapsed": true
   },
   "outputs": [],
   "source": []
  }
 ],
 "metadata": {
  "kernelspec": {
   "display_name": "Python 3",
   "language": "python",
   "name": "python3"
  },
  "language_info": {
   "codemirror_mode": {
    "name": "ipython",
    "version": 3
   },
   "file_extension": ".py",
   "mimetype": "text/x-python",
   "name": "python",
   "nbconvert_exporter": "python",
   "pygments_lexer": "ipython3",
   "version": "3.6.1"
  }
 },
 "nbformat": 4,
 "nbformat_minor": 2
}
