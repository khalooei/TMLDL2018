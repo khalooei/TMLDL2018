{
 "cells": [
  {
   "cell_type": "code",
   "execution_count": 1,
   "metadata": {},
   "outputs": [
    {
     "name": "stderr",
     "output_type": "stream",
     "text": [
      "C:\\Users\\Yasin\\Anaconda3\\lib\\site-packages\\h5py\\__init__.py:34: FutureWarning: Conversion of the second argument of issubdtype from `float` to `np.floating` is deprecated. In future, it will be treated as `np.float64 == np.dtype(float).type`.\n",
      "  from ._conv import register_converters as _register_converters\n"
     ]
    }
   ],
   "source": [
    "import tensorflow as tf\n",
    "\n"
   ]
  },
  {
   "cell_type": "code",
   "execution_count": 2,
   "metadata": {
    "collapsed": true
   },
   "outputs": [],
   "source": [
    "# We define a \"shape-able\" Variable\n",
    "x = tf.Variable(\n",
    "    [], # A list of scalar\n",
    "    dtype=tf.int32,\n",
    "    validate_shape=False, # By \"shape-able\", i mean we don't validate the shape so we can change it\n",
    "    trainable=False\n",
    ")\n",
    "# I build a new shape and assign it to x\n",
    "concat = tf.concat([x, [0]], 0)\n",
    "assign_op = tf.assign(x, concat, validate_shape=False) # We force TF, to skip the shape validation step\n"
   ]
  },
  {
   "cell_type": "code",
   "execution_count": 3,
   "metadata": {},
   "outputs": [
    {
     "name": "stdout",
     "output_type": "stream",
     "text": [
      "x: [] shape: [0]\n",
      "x: [0] shape: [1]\n",
      "x: [0 0] shape: [2]\n",
      "x: [0 0 0] shape: [3]\n",
      "x: [0 0 0 0] shape: [4]\n"
     ]
    }
   ],
   "source": [
    "with tf.Session() as sess:\n",
    "  sess.run(tf.global_variables_initializer())\n",
    "    \n",
    "  for i in range(5):\n",
    "    print('x:', sess.run(x), 'shape:', sess.run(tf.shape(x)))\n",
    "    sess.run(assign_op)\n",
    "\n",
    "# outputs:\n",
    "# x: [] shape: [0]\n",
    "# x: [0] shape: [1]\n",
    "# x: [0 0] shape: [2]\n",
    "# x: [0 0 0] shape: [3]\n",
    "# x: [0 0 0 0] shape: [4]"
   ]
  },
  {
   "cell_type": "code",
   "execution_count": null,
   "metadata": {
    "collapsed": true
   },
   "outputs": [],
   "source": []
  }
 ],
 "metadata": {
  "kernelspec": {
   "display_name": "Python 3",
   "language": "python",
   "name": "python3"
  },
  "language_info": {
   "codemirror_mode": {
    "name": "ipython",
    "version": 3
   },
   "file_extension": ".py",
   "mimetype": "text/x-python",
   "name": "python",
   "nbconvert_exporter": "python",
   "pygments_lexer": "ipython3",
   "version": "3.6.1"
  }
 },
 "nbformat": 4,
 "nbformat_minor": 2
}
