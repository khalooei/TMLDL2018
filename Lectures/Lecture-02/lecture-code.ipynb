{
 "cells": [
  {
   "cell_type": "code",
   "execution_count": 1,
   "metadata": {},
   "outputs": [
    {
     "name": "stdout",
     "output_type": "stream",
     "text": [
      "test\n"
     ]
    }
   ],
   "source": [
    "print('test')"
   ]
  },
  {
   "cell_type": "code",
   "execution_count": 2,
   "metadata": {},
   "outputs": [
    {
     "name": "stdout",
     "output_type": "stream",
     "text": [
      "1\n"
     ]
    }
   ],
   "source": [
    "x = 1\n",
    "\n",
    "print(x)"
   ]
  },
  {
   "cell_type": "code",
   "execution_count": 3,
   "metadata": {},
   "outputs": [
    {
     "data": {
      "text/plain": [
       "int"
      ]
     },
     "execution_count": 3,
     "metadata": {},
     "output_type": "execute_result"
    }
   ],
   "source": [
    "type(x)"
   ]
  },
  {
   "cell_type": "code",
   "execution_count": 1,
   "metadata": {},
   "outputs": [],
   "source": [
    "#x.shape"
   ]
  },
  {
   "cell_type": "code",
   "execution_count": 5,
   "metadata": {
    "collapsed": true
   },
   "outputs": [],
   "source": [
    "\n",
    "import numpy as np"
   ]
  },
  {
   "cell_type": "code",
   "execution_count": 6,
   "metadata": {
    "collapsed": true
   },
   "outputs": [],
   "source": [
    "a = np.zeros([2,2])"
   ]
  },
  {
   "cell_type": "code",
   "execution_count": 7,
   "metadata": {},
   "outputs": [
    {
     "data": {
      "text/plain": [
       "array([[0., 0.],\n",
       "       [0., 0.]])"
      ]
     },
     "execution_count": 7,
     "metadata": {},
     "output_type": "execute_result"
    }
   ],
   "source": [
    "a"
   ]
  },
  {
   "cell_type": "code",
   "execution_count": 8,
   "metadata": {},
   "outputs": [
    {
     "name": "stdout",
     "output_type": "stream",
     "text": [
      "[[0. 0.]\n",
      " [0. 0.]]\n"
     ]
    }
   ],
   "source": [
    "print(a)"
   ]
  },
  {
   "cell_type": "code",
   "execution_count": 9,
   "metadata": {},
   "outputs": [
    {
     "name": "stdout",
     "output_type": "stream",
     "text": [
      "test 12 test\n"
     ]
    }
   ],
   "source": [
    "print('test',12,'test')"
   ]
  },
  {
   "cell_type": "code",
   "execution_count": 10,
   "metadata": {},
   "outputs": [
    {
     "name": "stdout",
     "output_type": "stream",
     "text": [
      "[3, 1, 2] 2\n"
     ]
    }
   ],
   "source": [
    "xs = [3, 1, 2]    # Create a list\n",
    "print(xs, xs[2])"
   ]
  },
  {
   "cell_type": "markdown",
   "metadata": {},
   "source": [
    "### LIST\n",
    "note"
   ]
  },
  {
   "cell_type": "code",
   "execution_count": 12,
   "metadata": {
    "collapsed": true
   },
   "outputs": [],
   "source": [
    "l1 = [1,2,3,4,5]"
   ]
  },
  {
   "cell_type": "code",
   "execution_count": 13,
   "metadata": {},
   "outputs": [
    {
     "name": "stdout",
     "output_type": "stream",
     "text": [
      "[1, 2, 3, 4, 5]\n"
     ]
    }
   ],
   "source": [
    "print(l1)"
   ]
  },
  {
   "cell_type": "code",
   "execution_count": 16,
   "metadata": {},
   "outputs": [
    {
     "data": {
      "text/plain": [
       "3"
      ]
     },
     "execution_count": 16,
     "metadata": {},
     "output_type": "execute_result"
    }
   ],
   "source": [
    "l1[2]"
   ]
  },
  {
   "cell_type": "code",
   "execution_count": 17,
   "metadata": {
    "collapsed": true
   },
   "outputs": [],
   "source": [
    "l1.append(6)"
   ]
  },
  {
   "cell_type": "code",
   "execution_count": 18,
   "metadata": {},
   "outputs": [
    {
     "data": {
      "text/plain": [
       "[1, 2, 3, 4, 5, 6]"
      ]
     },
     "execution_count": 18,
     "metadata": {},
     "output_type": "execute_result"
    }
   ],
   "source": [
    "l1"
   ]
  },
  {
   "cell_type": "code",
   "execution_count": 19,
   "metadata": {
    "collapsed": true
   },
   "outputs": [],
   "source": [
    "l1.append('test')"
   ]
  },
  {
   "cell_type": "code",
   "execution_count": 20,
   "metadata": {},
   "outputs": [
    {
     "data": {
      "text/plain": [
       "[1, 2, 3, 4, 5, 6, 'test']"
      ]
     },
     "execution_count": 20,
     "metadata": {},
     "output_type": "execute_result"
    }
   ],
   "source": [
    "l1"
   ]
  },
  {
   "cell_type": "code",
   "execution_count": 21,
   "metadata": {},
   "outputs": [
    {
     "data": {
      "text/plain": [
       "[1, 2]"
      ]
     },
     "execution_count": 21,
     "metadata": {},
     "output_type": "execute_result"
    }
   ],
   "source": [
    "l1[0:2]"
   ]
  },
  {
   "cell_type": "code",
   "execution_count": 22,
   "metadata": {},
   "outputs": [
    {
     "data": {
      "text/plain": [
       "[1, 2, 3]"
      ]
     },
     "execution_count": 22,
     "metadata": {},
     "output_type": "execute_result"
    }
   ],
   "source": [
    "l1[0:3]"
   ]
  },
  {
   "cell_type": "code",
   "execution_count": 23,
   "metadata": {},
   "outputs": [
    {
     "data": {
      "text/plain": [
       "[1, 2, 3, 4, 5, 6, 'test']"
      ]
     },
     "execution_count": 23,
     "metadata": {},
     "output_type": "execute_result"
    }
   ],
   "source": [
    "l1[0:]"
   ]
  },
  {
   "cell_type": "code",
   "execution_count": 24,
   "metadata": {},
   "outputs": [
    {
     "data": {
      "text/plain": [
       "[1, 2, 3]"
      ]
     },
     "execution_count": 24,
     "metadata": {},
     "output_type": "execute_result"
    }
   ],
   "source": [
    "l1[:3]"
   ]
  },
  {
   "cell_type": "code",
   "execution_count": 28,
   "metadata": {},
   "outputs": [
    {
     "name": "stdout",
     "output_type": "stream",
     "text": [
      "1\n",
      "2\n",
      "3\n",
      "4\n",
      "5\n",
      "6\n",
      "test\n"
     ]
    }
   ],
   "source": [
    "for a in l1:\n",
    "    print(a)"
   ]
  },
  {
   "cell_type": "code",
   "execution_count": 30,
   "metadata": {},
   "outputs": [
    {
     "name": "stdout",
     "output_type": "stream",
     "text": [
      "0 ----> 1\n",
      "1 ----> 2\n",
      "2 ----> 3\n",
      "3 ----> 4\n",
      "4 ----> 5\n",
      "5 ----> 6\n",
      "6 ----> test\n"
     ]
    }
   ],
   "source": [
    "for i,item in enumerate(l1):\n",
    "    print(i,'---->',item)"
   ]
  },
  {
   "cell_type": "code",
   "execution_count": 31,
   "metadata": {
    "collapsed": true
   },
   "outputs": [],
   "source": [
    "d = {'cat': 'cute', 'dog': 'furry'}  # Create a new dictionary with some data"
   ]
  },
  {
   "cell_type": "code",
   "execution_count": 32,
   "metadata": {},
   "outputs": [
    {
     "name": "stdout",
     "output_type": "stream",
     "text": [
      "cute\n"
     ]
    }
   ],
   "source": [
    "print(d['cat']) "
   ]
  },
  {
   "cell_type": "code",
   "execution_count": 33,
   "metadata": {},
   "outputs": [
    {
     "data": {
      "text/plain": [
       "{1, 2, 3, 4, 5, 6, 'test'}"
      ]
     },
     "execution_count": 33,
     "metadata": {},
     "output_type": "execute_result"
    }
   ],
   "source": [
    "set(l1)"
   ]
  },
  {
   "cell_type": "code",
   "execution_count": 34,
   "metadata": {},
   "outputs": [
    {
     "data": {
      "text/plain": [
       "7"
      ]
     },
     "execution_count": 34,
     "metadata": {},
     "output_type": "execute_result"
    }
   ],
   "source": [
    "len(l1)"
   ]
  },
  {
   "cell_type": "code",
   "execution_count": 36,
   "metadata": {
    "collapsed": true
   },
   "outputs": [],
   "source": [
    "def funcnames(x):\n",
    "    print(x)"
   ]
  },
  {
   "cell_type": "code",
   "execution_count": 37,
   "metadata": {},
   "outputs": [
    {
     "name": "stdout",
     "output_type": "stream",
     "text": [
      "1\n"
     ]
    }
   ],
   "source": [
    "funcnames(1)"
   ]
  },
  {
   "cell_type": "code",
   "execution_count": 38,
   "metadata": {},
   "outputs": [
    {
     "name": "stdout",
     "output_type": "stream",
     "text": [
      "test\n"
     ]
    }
   ],
   "source": [
    "funcnames('test')"
   ]
  },
  {
   "cell_type": "code",
   "execution_count": 39,
   "metadata": {
    "collapsed": true
   },
   "outputs": [],
   "source": [
    "def sign(x):\n",
    "    if x > 0:\n",
    "        return 'positive'\n",
    "    elif x < 0:\n",
    "        return 'negative'\n",
    "    else:\n",
    "        return 'zero'\n"
   ]
  },
  {
   "cell_type": "code",
   "execution_count": 40,
   "metadata": {},
   "outputs": [
    {
     "name": "stdout",
     "output_type": "stream",
     "text": [
      "negative\n",
      "zero\n",
      "positive\n"
     ]
    }
   ],
   "source": [
    "for x in [-1, 0, 1]:\n",
    "    print(sign(x))"
   ]
  },
  {
   "cell_type": "code",
   "execution_count": 44,
   "metadata": {
    "collapsed": true
   },
   "outputs": [],
   "source": [
    "def hello(name, loud=False):\n",
    "    if loud:\n",
    "        print('HELLO, %s!' % name.upper())\n",
    "    else:\n",
    "        print('Hello, %s' % name)\n"
   ]
  },
  {
   "cell_type": "code",
   "execution_count": 45,
   "metadata": {},
   "outputs": [
    {
     "name": "stdout",
     "output_type": "stream",
     "text": [
      "Hello, ali\n"
     ]
    }
   ],
   "source": [
    "hello('ali')"
   ]
  },
  {
   "cell_type": "code",
   "execution_count": 47,
   "metadata": {},
   "outputs": [
    {
     "name": "stdout",
     "output_type": "stream",
     "text": [
      "HELLO, ALI!\n"
     ]
    }
   ],
   "source": [
    "hello('ali',True)"
   ]
  },
  {
   "cell_type": "code",
   "execution_count": 51,
   "metadata": {
    "collapsed": true
   },
   "outputs": [],
   "source": [
    "class Greeter(object):\n",
    "    family = 1\n",
    "    # Constructor\n",
    "    def __init__(self, name):\n",
    "        self.name = name  # Create an instance variable\n",
    "\n",
    "    # Instance method\n",
    "    def greet(self, loud=False):\n",
    "        if loud:\n",
    "            print('HELLO, %s!' % self.name.upper())\n",
    "        else:\n",
    "            print('Hello, %s' % self.name)\n"
   ]
  },
  {
   "cell_type": "code",
   "execution_count": 52,
   "metadata": {
    "collapsed": true
   },
   "outputs": [],
   "source": [
    "g = Greeter('Fred') "
   ]
  },
  {
   "cell_type": "code",
   "execution_count": 53,
   "metadata": {},
   "outputs": [
    {
     "data": {
      "text/plain": [
       "'Fred'"
      ]
     },
     "execution_count": 53,
     "metadata": {},
     "output_type": "execute_result"
    }
   ],
   "source": [
    "g.name"
   ]
  },
  {
   "cell_type": "code",
   "execution_count": 54,
   "metadata": {},
   "outputs": [
    {
     "data": {
      "text/plain": [
       "1"
      ]
     },
     "execution_count": 54,
     "metadata": {},
     "output_type": "execute_result"
    }
   ],
   "source": [
    "g.family"
   ]
  },
  {
   "cell_type": "code",
   "execution_count": 55,
   "metadata": {
    "collapsed": true
   },
   "outputs": [],
   "source": [
    "\n",
    "g.family=2"
   ]
  },
  {
   "cell_type": "code",
   "execution_count": 56,
   "metadata": {},
   "outputs": [
    {
     "data": {
      "text/plain": [
       "1"
      ]
     },
     "execution_count": 56,
     "metadata": {},
     "output_type": "execute_result"
    }
   ],
   "source": [
    "Greeter.family"
   ]
  },
  {
   "cell_type": "code",
   "execution_count": 57,
   "metadata": {},
   "outputs": [
    {
     "data": {
      "text/plain": [
       "2"
      ]
     },
     "execution_count": 57,
     "metadata": {},
     "output_type": "execute_result"
    }
   ],
   "source": [
    "g.family"
   ]
  },
  {
   "cell_type": "code",
   "execution_count": null,
   "metadata": {
    "collapsed": true
   },
   "outputs": [],
   "source": [
    "while x>s:\n",
    "    etet"
   ]
  },
  {
   "cell_type": "code",
   "execution_count": 58,
   "metadata": {
    "collapsed": true
   },
   "outputs": [],
   "source": [
    "import numpy as np"
   ]
  },
  {
   "cell_type": "code",
   "execution_count": 59,
   "metadata": {
    "collapsed": true
   },
   "outputs": [],
   "source": [
    "a = np.array([1, 2, 3])"
   ]
  },
  {
   "cell_type": "code",
   "execution_count": 60,
   "metadata": {},
   "outputs": [
    {
     "data": {
      "text/plain": [
       "array([1, 2, 3])"
      ]
     },
     "execution_count": 60,
     "metadata": {},
     "output_type": "execute_result"
    }
   ],
   "source": [
    "a"
   ]
  },
  {
   "cell_type": "code",
   "execution_count": 61,
   "metadata": {},
   "outputs": [
    {
     "data": {
      "text/plain": [
       "numpy.ndarray"
      ]
     },
     "execution_count": 61,
     "metadata": {},
     "output_type": "execute_result"
    }
   ],
   "source": [
    "type(a)"
   ]
  },
  {
   "cell_type": "code",
   "execution_count": 64,
   "metadata": {},
   "outputs": [
    {
     "data": {
      "text/plain": [
       "tuple"
      ]
     },
     "execution_count": 64,
     "metadata": {},
     "output_type": "execute_result"
    }
   ],
   "source": [
    "type(a.shape)"
   ]
  },
  {
   "cell_type": "code",
   "execution_count": 65,
   "metadata": {
    "collapsed": true
   },
   "outputs": [],
   "source": [
    "l2=[1,3,3,4,5,8,6,7,6]"
   ]
  },
  {
   "cell_type": "code",
   "execution_count": 66,
   "metadata": {},
   "outputs": [
    {
     "data": {
      "text/plain": [
       "array([1, 3, 3, 4, 5, 8, 6, 7, 6])"
      ]
     },
     "execution_count": 66,
     "metadata": {},
     "output_type": "execute_result"
    }
   ],
   "source": [
    "np.array(l2)"
   ]
  },
  {
   "cell_type": "code",
   "execution_count": 67,
   "metadata": {},
   "outputs": [
    {
     "data": {
      "text/plain": [
       "array([[0.85946508, 0.76796439],\n",
       "       [0.95520091, 0.62891543]])"
      ]
     },
     "execution_count": 67,
     "metadata": {},
     "output_type": "execute_result"
    }
   ],
   "source": [
    "np.random.random((2,2))"
   ]
  },
  {
   "cell_type": "code",
   "execution_count": 68,
   "metadata": {
    "collapsed": true
   },
   "outputs": [],
   "source": [
    "a = np.array([[1,2,3,4], [5,6,7,8], [9,10,11,12]])\n"
   ]
  },
  {
   "cell_type": "code",
   "execution_count": 69,
   "metadata": {},
   "outputs": [
    {
     "data": {
      "text/plain": [
       "array([[ 1,  2,  3,  4],\n",
       "       [ 5,  6,  7,  8],\n",
       "       [ 9, 10, 11, 12]])"
      ]
     },
     "execution_count": 69,
     "metadata": {},
     "output_type": "execute_result"
    }
   ],
   "source": [
    "a"
   ]
  },
  {
   "cell_type": "code",
   "execution_count": 71,
   "metadata": {},
   "outputs": [
    {
     "data": {
      "text/plain": [
       "array([[1, 2, 3, 4],\n",
       "       [5, 6, 7, 8]])"
      ]
     },
     "execution_count": 71,
     "metadata": {},
     "output_type": "execute_result"
    }
   ],
   "source": [
    "a[:2, :]"
   ]
  },
  {
   "cell_type": "code",
   "execution_count": 72,
   "metadata": {},
   "outputs": [
    {
     "data": {
      "text/plain": [
       "array([[ 1,  5,  9],\n",
       "       [ 2,  6, 10],\n",
       "       [ 3,  7, 11],\n",
       "       [ 4,  8, 12]])"
      ]
     },
     "execution_count": 72,
     "metadata": {},
     "output_type": "execute_result"
    }
   ],
   "source": [
    "np.transpose(a)"
   ]
  },
  {
   "cell_type": "code",
   "execution_count": 73,
   "metadata": {},
   "outputs": [
    {
     "data": {
      "text/plain": [
       "array([[  1,   4,   9,  16],\n",
       "       [ 25,  36,  49,  64],\n",
       "       [ 81, 100, 121, 144]])"
      ]
     },
     "execution_count": 73,
     "metadata": {},
     "output_type": "execute_result"
    }
   ],
   "source": [
    "np.multiply(a,a)"
   ]
  },
  {
   "cell_type": "code",
   "execution_count": 74,
   "metadata": {},
   "outputs": [
    {
     "data": {
      "text/plain": [
       "array([[  1,   4,   9,  16],\n",
       "       [ 25,  36,  49,  64],\n",
       "       [ 81, 100, 121, 144]])"
      ]
     },
     "execution_count": 74,
     "metadata": {},
     "output_type": "execute_result"
    }
   ],
   "source": [
    "a*a"
   ]
  },
  {
   "cell_type": "code",
   "execution_count": 77,
   "metadata": {},
   "outputs": [
    {
     "data": {
      "text/plain": [
       "array([[ 30,  70, 110],\n",
       "       [ 70, 174, 278],\n",
       "       [110, 278, 446]])"
      ]
     },
     "execution_count": 77,
     "metadata": {},
     "output_type": "execute_result"
    }
   ],
   "source": [
    "a.dot(np.transpose(a))"
   ]
  },
  {
   "cell_type": "code",
   "execution_count": 78,
   "metadata": {},
   "outputs": [
    {
     "data": {
      "text/plain": [
       "array([[ 1,  2,  3,  4],\n",
       "       [ 5,  6,  7,  8],\n",
       "       [ 9, 10, 11, 12]])"
      ]
     },
     "execution_count": 78,
     "metadata": {},
     "output_type": "execute_result"
    }
   ],
   "source": [
    "a"
   ]
  },
  {
   "cell_type": "code",
   "execution_count": 79,
   "metadata": {},
   "outputs": [
    {
     "data": {
      "text/plain": [
       "array([15, 18, 21, 24])"
      ]
     },
     "execution_count": 79,
     "metadata": {},
     "output_type": "execute_result"
    }
   ],
   "source": [
    "a.sum(axis=0)"
   ]
  },
  {
   "cell_type": "code",
   "execution_count": 80,
   "metadata": {},
   "outputs": [
    {
     "data": {
      "text/plain": [
       "array([10, 26, 42])"
      ]
     },
     "execution_count": 80,
     "metadata": {},
     "output_type": "execute_result"
    }
   ],
   "source": [
    "a.sum(axis=1)"
   ]
  },
  {
   "cell_type": "code",
   "execution_count": 81,
   "metadata": {},
   "outputs": [
    {
     "ename": "AxisError",
     "evalue": "axis 2 is out of bounds for array of dimension 2",
     "output_type": "error",
     "traceback": [
      "\u001b[1;31m---------------------------------------------------------------------------\u001b[0m",
      "\u001b[1;31mAxisError\u001b[0m                                 Traceback (most recent call last)",
      "\u001b[1;32m<ipython-input-81-4bfee13b0bc4>\u001b[0m in \u001b[0;36m<module>\u001b[1;34m()\u001b[0m\n\u001b[1;32m----> 1\u001b[1;33m \u001b[0ma\u001b[0m\u001b[1;33m.\u001b[0m\u001b[0msum\u001b[0m\u001b[1;33m(\u001b[0m\u001b[0maxis\u001b[0m\u001b[1;33m=\u001b[0m\u001b[1;36m2\u001b[0m\u001b[1;33m)\u001b[0m\u001b[1;33m\u001b[0m\u001b[0m\n\u001b[0m",
      "\u001b[1;32mC:\\Users\\Yasin\\Anaconda3\\lib\\site-packages\\numpy\\core\\_methods.py\u001b[0m in \u001b[0;36m_sum\u001b[1;34m(a, axis, dtype, out, keepdims)\u001b[0m\n\u001b[0;32m     30\u001b[0m \u001b[1;33m\u001b[0m\u001b[0m\n\u001b[0;32m     31\u001b[0m \u001b[1;32mdef\u001b[0m \u001b[0m_sum\u001b[0m\u001b[1;33m(\u001b[0m\u001b[0ma\u001b[0m\u001b[1;33m,\u001b[0m \u001b[0maxis\u001b[0m\u001b[1;33m=\u001b[0m\u001b[1;32mNone\u001b[0m\u001b[1;33m,\u001b[0m \u001b[0mdtype\u001b[0m\u001b[1;33m=\u001b[0m\u001b[1;32mNone\u001b[0m\u001b[1;33m,\u001b[0m \u001b[0mout\u001b[0m\u001b[1;33m=\u001b[0m\u001b[1;32mNone\u001b[0m\u001b[1;33m,\u001b[0m \u001b[0mkeepdims\u001b[0m\u001b[1;33m=\u001b[0m\u001b[1;32mFalse\u001b[0m\u001b[1;33m)\u001b[0m\u001b[1;33m:\u001b[0m\u001b[1;33m\u001b[0m\u001b[0m\n\u001b[1;32m---> 32\u001b[1;33m     \u001b[1;32mreturn\u001b[0m \u001b[0mumr_sum\u001b[0m\u001b[1;33m(\u001b[0m\u001b[0ma\u001b[0m\u001b[1;33m,\u001b[0m \u001b[0maxis\u001b[0m\u001b[1;33m,\u001b[0m \u001b[0mdtype\u001b[0m\u001b[1;33m,\u001b[0m \u001b[0mout\u001b[0m\u001b[1;33m,\u001b[0m \u001b[0mkeepdims\u001b[0m\u001b[1;33m)\u001b[0m\u001b[1;33m\u001b[0m\u001b[0m\n\u001b[0m\u001b[0;32m     33\u001b[0m \u001b[1;33m\u001b[0m\u001b[0m\n\u001b[0;32m     34\u001b[0m \u001b[1;32mdef\u001b[0m \u001b[0m_prod\u001b[0m\u001b[1;33m(\u001b[0m\u001b[0ma\u001b[0m\u001b[1;33m,\u001b[0m \u001b[0maxis\u001b[0m\u001b[1;33m=\u001b[0m\u001b[1;32mNone\u001b[0m\u001b[1;33m,\u001b[0m \u001b[0mdtype\u001b[0m\u001b[1;33m=\u001b[0m\u001b[1;32mNone\u001b[0m\u001b[1;33m,\u001b[0m \u001b[0mout\u001b[0m\u001b[1;33m=\u001b[0m\u001b[1;32mNone\u001b[0m\u001b[1;33m,\u001b[0m \u001b[0mkeepdims\u001b[0m\u001b[1;33m=\u001b[0m\u001b[1;32mFalse\u001b[0m\u001b[1;33m)\u001b[0m\u001b[1;33m:\u001b[0m\u001b[1;33m\u001b[0m\u001b[0m\n",
      "\u001b[1;31mAxisError\u001b[0m: axis 2 is out of bounds for array of dimension 2"
     ]
    }
   ],
   "source": [
    "a.sum(axis=2) # it has error ... we solve it by new idea ... "
   ]
  },
  {
   "cell_type": "code",
   "execution_count": 83,
   "metadata": {
    "collapsed": true
   },
   "outputs": [],
   "source": [
    "b = np.array([a,a])"
   ]
  },
  {
   "cell_type": "code",
   "execution_count": 84,
   "metadata": {},
   "outputs": [
    {
     "data": {
      "text/plain": [
       "array([[[ 1,  2,  3,  4],\n",
       "        [ 5,  6,  7,  8],\n",
       "        [ 9, 10, 11, 12]],\n",
       "\n",
       "       [[ 1,  2,  3,  4],\n",
       "        [ 5,  6,  7,  8],\n",
       "        [ 9, 10, 11, 12]]])"
      ]
     },
     "execution_count": 84,
     "metadata": {},
     "output_type": "execute_result"
    }
   ],
   "source": [
    "b"
   ]
  },
  {
   "cell_type": "code",
   "execution_count": 85,
   "metadata": {},
   "outputs": [
    {
     "data": {
      "text/plain": [
       "array([[ 2,  4,  6,  8],\n",
       "       [10, 12, 14, 16],\n",
       "       [18, 20, 22, 24]])"
      ]
     },
     "execution_count": 85,
     "metadata": {},
     "output_type": "execute_result"
    }
   ],
   "source": [
    "b.sum(axis=0)"
   ]
  },
  {
   "cell_type": "code",
   "execution_count": 87,
   "metadata": {},
   "outputs": [
    {
     "data": {
      "text/plain": [
       "array([[10, 26, 42],\n",
       "       [10, 26, 42]])"
      ]
     },
     "execution_count": 87,
     "metadata": {},
     "output_type": "execute_result"
    }
   ],
   "source": [
    "b.sum(axis=2)"
   ]
  },
  {
   "cell_type": "code",
   "execution_count": 90,
   "metadata": {},
   "outputs": [
    {
     "data": {
      "text/plain": [
       "array([[1, 5, 9],\n",
       "       [1, 5, 9]])"
      ]
     },
     "execution_count": 90,
     "metadata": {},
     "output_type": "execute_result"
    }
   ],
   "source": [
    "b[:,:,0]"
   ]
  },
  {
   "cell_type": "code",
   "execution_count": 101,
   "metadata": {
    "collapsed": true
   },
   "outputs": [],
   "source": [
    "mnist_tmp = np.random.random((28,28))"
   ]
  },
  {
   "cell_type": "code",
   "execution_count": 102,
   "metadata": {},
   "outputs": [
    {
     "data": {
      "text/plain": [
       "(28, 28)"
      ]
     },
     "execution_count": 102,
     "metadata": {},
     "output_type": "execute_result"
    }
   ],
   "source": [
    "mnist_tmp.shape"
   ]
  },
  {
   "cell_type": "code",
   "execution_count": 105,
   "metadata": {},
   "outputs": [
    {
     "data": {
      "text/plain": [
       "(784,)"
      ]
     },
     "execution_count": 105,
     "metadata": {},
     "output_type": "execute_result"
    }
   ],
   "source": [
    "mnist_tmp.reshape((-1)).shape"
   ]
  },
  {
   "cell_type": "code",
   "execution_count": 106,
   "metadata": {},
   "outputs": [
    {
     "data": {
      "text/plain": [
       "array([[0.36318402, 0.22891155, 0.39066435, 0.92095027, 0.26954796,\n",
       "        0.80805731, 0.60355305, 0.05326606, 0.43202888, 0.93532974,\n",
       "        0.87691532, 0.63757434, 0.81096076, 0.93534579, 0.2373093 ,\n",
       "        0.61170497, 0.66004384, 0.98924746, 0.98666602, 0.2227788 ,\n",
       "        0.43578577, 0.53559311, 0.99884213, 0.83315654, 0.79873296,\n",
       "        0.54898305, 0.78577194, 0.52525684],\n",
       "       [0.5635961 , 0.32486014, 0.35799719, 0.50289846, 0.56718703,\n",
       "        0.97425207, 0.45568297, 0.16148365, 0.32369899, 0.27377196,\n",
       "        0.70459992, 0.71892099, 0.5157792 , 0.69510128, 0.75050741,\n",
       "        0.3046644 , 0.41568076, 0.08585145, 0.49642255, 0.70637555,\n",
       "        0.35918842, 0.19931868, 0.26149349, 0.14869182, 0.17362075,\n",
       "        0.27033604, 0.64576606, 0.6398804 ],\n",
       "       [0.67737292, 0.47197201, 0.07012988, 0.36739009, 0.65683828,\n",
       "        0.73048696, 0.87718158, 0.19981571, 0.13068758, 0.31618696,\n",
       "        0.19135156, 0.22020673, 0.32942916, 0.19674513, 0.32010242,\n",
       "        0.19290644, 0.44089052, 0.35811055, 0.94917928, 0.25963525,\n",
       "        0.61840617, 0.9489299 , 0.3157628 , 0.44702554, 0.61128839,\n",
       "        0.35039026, 0.90211481, 0.83197575],\n",
       "       [0.72223297, 0.32317349, 0.32640337, 0.11826746, 0.69209119,\n",
       "        0.99398649, 0.25985565, 0.98886673, 0.66740355, 0.48405946,\n",
       "        0.78969579, 0.57767387, 0.13964959, 0.23710908, 0.72334686,\n",
       "        0.99180914, 0.15926194, 0.06232404, 0.90662518, 0.69162698,\n",
       "        0.85486521, 0.78821958, 0.09298671, 0.45892785, 0.11429824,\n",
       "        0.09301428, 0.95773539, 0.81343811],\n",
       "       [0.94726403, 0.72866753, 0.86998956, 0.95174872, 0.95269489,\n",
       "        0.31113052, 0.24365184, 0.64976143, 0.28086279, 0.04996881,\n",
       "        0.83459998, 0.85863118, 0.18134519, 0.12445717, 0.28287764,\n",
       "        0.31379318, 0.93628229, 0.47074687, 0.81082737, 0.27456719,\n",
       "        0.64630031, 0.90193113, 0.34248238, 0.87631244, 0.4340278 ,\n",
       "        0.15200775, 0.38307369, 0.72407332],\n",
       "       [0.99703029, 0.31250299, 0.54767489, 0.67423467, 0.93390374,\n",
       "        0.92035335, 0.92578867, 0.35219184, 0.01050291, 0.10102997,\n",
       "        0.83654756, 0.01787694, 0.33112131, 0.91450359, 0.51422013,\n",
       "        0.632402  , 0.93743598, 0.51976933, 0.19755354, 0.09189316,\n",
       "        0.92256991, 0.01130924, 0.39332956, 0.29632626, 0.61501122,\n",
       "        0.29917822, 0.99522122, 0.74034042],\n",
       "       [0.93573896, 0.8005035 , 0.5911516 , 0.60148242, 0.50356736,\n",
       "        0.22029005, 0.77011931, 0.17391011, 0.39212322, 0.46284819,\n",
       "        0.14850233, 0.17913595, 0.93987477, 0.69969552, 0.09459905,\n",
       "        0.62676475, 0.94016096, 0.47983485, 0.4565229 , 0.22959359,\n",
       "        0.51425322, 0.68568866, 0.744927  , 0.05257586, 0.40508833,\n",
       "        0.71256893, 0.80993402, 0.19970432],\n",
       "       [0.12200799, 0.76818844, 0.29145438, 0.51323786, 0.80905841,\n",
       "        0.30368214, 0.31412435, 0.85591487, 0.28746704, 0.21361921,\n",
       "        0.28142325, 0.41988727, 0.6346527 , 0.19555542, 0.99140797,\n",
       "        0.08911279, 0.03668251, 0.55110751, 0.28195266, 0.69873741,\n",
       "        0.15141216, 0.51548206, 0.11084658, 0.86810612, 0.6275595 ,\n",
       "        0.91812179, 0.43679656, 0.26232688],\n",
       "       [0.08416758, 0.13901887, 0.38355392, 0.64083308, 0.9653835 ,\n",
       "        0.45090826, 0.7936271 , 0.08427222, 0.743277  , 0.27421879,\n",
       "        0.91269371, 0.96530263, 0.58992756, 0.68996921, 0.11498836,\n",
       "        0.66518877, 0.1692797 , 0.14261884, 0.73775708, 0.70489428,\n",
       "        0.27603533, 0.89721815, 0.92125172, 0.31418027, 0.96010018,\n",
       "        0.07779956, 0.51838149, 0.33511552],\n",
       "       [0.34347047, 0.9031504 , 0.80493618, 0.98573507, 0.82849341,\n",
       "        0.78420078, 0.64023002, 0.40800119, 0.39694109, 0.64763851,\n",
       "        0.45607603, 0.38356226, 0.98833689, 0.66639914, 0.32028935,\n",
       "        0.46632689, 0.47743797, 0.42053455, 0.16614879, 0.8563753 ,\n",
       "        0.74702017, 0.56579208, 0.50039591, 0.44088   , 0.45235611,\n",
       "        0.199162  , 0.16830947, 0.97901266],\n",
       "       [0.20472107, 0.81089887, 0.537623  , 0.69059388, 0.13729897,\n",
       "        0.36336984, 0.99849628, 0.13081657, 0.03426746, 0.89182629,\n",
       "        0.76209674, 0.67243033, 0.34488917, 0.75726963, 0.15009259,\n",
       "        0.62329645, 0.07670512, 0.48573122, 0.37242717, 0.39069022,\n",
       "        0.62493667, 0.29873969, 0.44775675, 0.86358197, 0.74980536,\n",
       "        0.11968407, 0.48165187, 0.44479056],\n",
       "       [0.55581675, 0.21047314, 0.20850973, 0.61392275, 0.87077265,\n",
       "        0.38054121, 0.28048252, 0.57528383, 0.85480695, 0.00109734,\n",
       "        0.46598791, 0.14256227, 0.97891779, 0.43990736, 0.97299502,\n",
       "        0.37024407, 0.50566469, 0.55244932, 0.17415038, 0.624367  ,\n",
       "        0.40872857, 0.77137384, 0.23406391, 0.66777477, 0.83555311,\n",
       "        0.22791648, 0.7590883 , 0.65892218],\n",
       "       [0.67822506, 0.89038321, 0.61931973, 0.13266038, 0.28194299,\n",
       "        0.0920551 , 0.81563368, 0.90943536, 0.79877577, 0.06878183,\n",
       "        0.28135101, 0.32054901, 0.17263475, 0.47033348, 0.15832906,\n",
       "        0.07429325, 0.67805945, 0.81179895, 0.29396933, 0.3825447 ,\n",
       "        0.33254516, 0.64786469, 0.1556042 , 0.53786026, 0.35973156,\n",
       "        0.09606441, 0.13983143, 0.91703163],\n",
       "       [0.26695465, 0.34959122, 0.92999811, 0.32565031, 0.35771408,\n",
       "        0.109095  , 0.91567969, 0.90959642, 0.87287625, 0.72404112,\n",
       "        0.61929557, 0.76961189, 0.42253339, 0.70392416, 0.2089936 ,\n",
       "        0.54005355, 0.44187183, 0.88552565, 0.98440856, 0.34033659,\n",
       "        0.21718337, 0.93847166, 0.30529908, 0.14987861, 0.37800749,\n",
       "        0.96882151, 0.49518316, 0.80200612],\n",
       "       [0.42689415, 0.82570175, 0.51851726, 0.31417064, 0.88075569,\n",
       "        0.05525315, 0.76336411, 0.13976109, 0.1500858 , 0.44776844,\n",
       "        0.11719741, 0.78662461, 0.72198384, 0.62788875, 0.9001417 ,\n",
       "        0.7041377 , 0.52218461, 0.99011113, 0.98663463, 0.3080803 ,\n",
       "        0.21651734, 0.53050167, 0.10984312, 0.09234146, 0.82251764,\n",
       "        0.25199836, 0.21979172, 0.11069134],\n",
       "       [0.54030876, 0.79632347, 0.09777601, 0.81045466, 0.38265863,\n",
       "        0.34761781, 0.35052358, 0.27053488, 0.30934083, 0.68845056,\n",
       "        0.75479109, 0.18475302, 0.73034095, 0.01679743, 0.33269745,\n",
       "        0.85499989, 0.11184461, 0.4258247 , 0.76579066, 0.74471252,\n",
       "        0.73707475, 0.54617706, 0.26481829, 0.47152222, 0.49162049,\n",
       "        0.58913478, 0.71155669, 0.95573038],\n",
       "       [0.31915513, 0.59239071, 0.05947126, 0.20285147, 0.28732449,\n",
       "        0.41413214, 0.68065721, 0.73348295, 0.71916325, 0.03961979,\n",
       "        0.4737708 , 0.12075896, 0.96880175, 0.18955391, 0.06097275,\n",
       "        0.73786232, 0.26824553, 0.35141782, 0.05280603, 0.72741031,\n",
       "        0.39418585, 0.43401007, 0.36296892, 0.08080102, 0.72576531,\n",
       "        0.5075503 , 0.64735367, 0.54911611],\n",
       "       [0.20586851, 0.23563806, 0.87574459, 0.5166801 , 0.35335743,\n",
       "        0.90593049, 0.20319445, 0.30651682, 0.23480803, 0.7499074 ,\n",
       "        0.59362942, 0.86489472, 0.07991831, 0.6445454 , 0.70219563,\n",
       "        0.03064941, 0.85770357, 0.42086815, 0.45547575, 0.34080429,\n",
       "        0.31773842, 0.00998438, 0.41024881, 0.51018467, 0.88328792,\n",
       "        0.4024566 , 0.51306091, 0.91997955],\n",
       "       [0.20699895, 0.28827294, 0.97550006, 0.13521989, 0.40761083,\n",
       "        0.25839433, 0.49654825, 0.3792096 , 0.67661123, 0.72911826,\n",
       "        0.6112513 , 0.06267586, 0.84165541, 0.04923979, 0.30316417,\n",
       "        0.605863  , 0.89706356, 0.47611573, 0.95483021, 0.00257141,\n",
       "        0.69626449, 0.43174447, 0.06273689, 0.70700319, 0.33644209,\n",
       "        0.21958344, 0.26056353, 0.1884363 ],\n",
       "       [0.96400704, 0.36257178, 0.94510119, 0.5173211 , 0.76912808,\n",
       "        0.5873612 , 0.36340686, 0.91975928, 0.30193179, 0.02328647,\n",
       "        0.65688008, 0.70509822, 0.0963544 , 0.47334491, 0.86277538,\n",
       "        0.91295221, 0.40879057, 0.33215021, 0.99533193, 0.81233535,\n",
       "        0.23643671, 0.57558669, 0.13461655, 0.73523537, 0.74168974,\n",
       "        0.24496859, 0.16975475, 0.32494689],\n",
       "       [0.4999071 , 0.37769594, 0.72023425, 0.82020254, 0.34957895,\n",
       "        0.19794253, 0.89513285, 0.62014606, 0.54267507, 0.54838129,\n",
       "        0.2760783 , 0.19999764, 0.15330286, 0.65358138, 0.07247555,\n",
       "        0.46367188, 0.83083849, 0.50220258, 0.31748069, 0.50390119,\n",
       "        0.65992984, 0.54323712, 0.46297367, 0.93313687, 0.02308807,\n",
       "        0.99587735, 0.54018927, 0.45406182],\n",
       "       [0.4789852 , 0.01297963, 0.59103559, 0.19660049, 0.37457945,\n",
       "        0.24325312, 0.06812484, 0.51346085, 0.47117095, 0.87815049,\n",
       "        0.21826948, 0.01008837, 0.18982349, 0.63864424, 0.74503472,\n",
       "        0.52948288, 0.33079607, 0.36706479, 0.05105301, 0.46810303,\n",
       "        0.47313344, 0.54085208, 0.63582439, 0.49522839, 0.80962211,\n",
       "        0.83351455, 0.94524367, 0.37383433],\n",
       "       [0.03384212, 0.1264387 , 0.55330813, 0.87151444, 0.58795677,\n",
       "        0.50713012, 0.53982553, 0.72676249, 0.94191776, 0.64594222,\n",
       "        0.66468441, 0.10104399, 0.44441029, 0.23945956, 0.6302391 ,\n",
       "        0.93624385, 0.55252433, 0.98851573, 0.92646076, 0.10524144,\n",
       "        0.85606486, 0.55731726, 0.6209118 , 0.32175585, 0.58493647,\n",
       "        0.28435501, 0.25874252, 0.70071787],\n",
       "       [0.72697282, 0.42806006, 0.16697293, 0.47650487, 0.0122184 ,\n",
       "        0.21277678, 0.09046619, 0.83814552, 0.21255802, 0.89862761,\n",
       "        0.61217952, 0.90249357, 0.15061603, 0.70578855, 0.01728446,\n",
       "        0.4354112 , 0.06795077, 0.63014502, 0.26376649, 0.10366822,\n",
       "        0.02262971, 0.9033623 , 0.15514417, 0.60697136, 0.2672233 ,\n",
       "        0.95102993, 0.06075863, 0.45677773],\n",
       "       [0.70617609, 0.72146397, 0.98308642, 0.71832708, 0.60725477,\n",
       "        0.74960433, 0.33870075, 0.14035419, 0.18061192, 0.06740783,\n",
       "        0.90126839, 0.87266392, 0.69399159, 0.71653156, 0.31801309,\n",
       "        0.05161108, 0.84554299, 0.38556649, 0.49455123, 0.94106848,\n",
       "        0.66083664, 0.02075854, 0.43036582, 0.14090027, 0.13384775,\n",
       "        0.95901301, 0.31805658, 0.40171533],\n",
       "       [0.94214048, 0.3381948 , 0.15679057, 0.02726172, 0.71738421,\n",
       "        0.76921053, 0.19779257, 0.05036876, 0.97118483, 0.01859421,\n",
       "        0.35740825, 0.58299224, 0.1532209 , 0.20596474, 0.35299706,\n",
       "        0.87857892, 0.55668966, 0.66835693, 0.98884595, 0.40989032,\n",
       "        0.01541962, 0.42915142, 0.89329564, 0.02355208, 0.23286233,\n",
       "        0.85864271, 0.11902277, 0.63893811],\n",
       "       [0.90430008, 0.42830131, 0.81890913, 0.14293433, 0.41713276,\n",
       "        0.22953249, 0.34587965, 0.09013011, 0.08737652, 0.5220645 ,\n",
       "        0.55406188, 0.82610387, 0.64088381, 0.45057915, 0.40369226,\n",
       "        0.94129737, 0.41882055, 0.73908372, 0.54669204, 0.47673995,\n",
       "        0.79121798, 0.91726162, 0.04234573, 0.51128292, 0.9109119 ,\n",
       "        0.0467415 , 0.01753623, 0.03230987],\n",
       "       [0.74530949, 0.51025189, 0.78800789, 0.927416  , 0.92782649,\n",
       "        0.98366152, 0.18224931, 0.02038123, 0.88650904, 0.56345009,\n",
       "        0.00476594, 0.11953195, 0.65698944, 0.59551386, 0.97115353,\n",
       "        0.76983655, 0.88903939, 0.81403603, 0.81269238, 0.21481644,\n",
       "        0.93943863, 0.54854108, 0.15733426, 0.7874849 , 0.46620487,\n",
       "        0.89659104, 0.60480785, 0.41466722]])"
      ]
     },
     "execution_count": 106,
     "metadata": {},
     "output_type": "execute_result"
    }
   ],
   "source": [
    "mnist_tmp"
   ]
  },
  {
   "cell_type": "code",
   "execution_count": null,
   "metadata": {
    "collapsed": true
   },
   "outputs": [],
   "source": []
  },
  {
   "cell_type": "code",
   "execution_count": 109,
   "metadata": {
    "collapsed": true
   },
   "outputs": [],
   "source": [
    "from scipy.misc import imread, imsave, imresize"
   ]
  },
  {
   "cell_type": "code",
   "execution_count": 110,
   "metadata": {},
   "outputs": [
    {
     "name": "stdout",
     "output_type": "stream",
     "text": [
      "uint8 (302, 300, 3)\n"
     ]
    }
   ],
   "source": [
    "\n",
    "# Read an JPEG image into a numpy array\n",
    "img = imread('C:\\\\Users\\\\Yasin\\\\Pictures\\\\6bee5ff7c5467bcdbdc4047b59e1a092.jpg')\n",
    "print(img.dtype, img.shape)  # Prints \"uint8 (400, 248, 3)\""
   ]
  },
  {
   "cell_type": "code",
   "execution_count": 115,
   "metadata": {
    "collapsed": true
   },
   "outputs": [],
   "source": [
    "from matplotlib import pyplot as plt\n",
    "%matplotlib inline"
   ]
  },
  {
   "cell_type": "code",
   "execution_count": 116,
   "metadata": {},
   "outputs": [
    {
     "data": {
      "text/plain": [
       "<matplotlib.image.AxesImage at 0x1c4f7f08860>"
      ]
     },
     "execution_count": 116,
     "metadata": {},
     "output_type": "execute_result"
    },
    {
     "data": {
      "image/png": "[encoded data removed]",
      "text/plain": [
       "<matplotlib.figure.Figure at 0x1c4f7e80a20>"
      ]
     },
     "metadata": {},
     "output_type": "display_data"
    }
   ],
   "source": [
    "plt.imshow(img)"
   ]
  },
  {
   "cell_type": "code",
   "execution_count": 117,
   "metadata": {
    "collapsed": true
   },
   "outputs": [],
   "source": [
    "x = np.arange(0, 3 * np.pi, 0.1)\n",
    "y = np.sin(x)\n"
   ]
  },
  {
   "cell_type": "code",
   "execution_count": 129,
   "metadata": {
    "scrolled": true
   },
   "outputs": [
    {
     "data": {
      "image/png": "[encoded data removed]",
      "text/plain": [
       "<matplotlib.figure.Figure at 0x1c4f9680860>"
      ]
     },
     "metadata": {},
     "output_type": "display_data"
    }
   ],
   "source": [
    "plt.subplot(2,1,1)\n",
    "plt.plot(x,y,'--*')\n",
    "plt.xlabel('x')\n",
    "plt.ylabel('sin(x)')\n",
    "plt.title('draw sample')\n",
    "plt.legend(['sin(x)'])\n",
    "plt.grid('on')\n",
    "\n",
    "\n",
    "\n",
    "plt.subplot(2,1,2)\n",
    "plt.plot(x,y,'--*')\n",
    "plt.xlabel('x')\n",
    "plt.ylabel('sin(x)')\n",
    "plt.title('draw sample')\n",
    "plt.legend(['sin(x)'])\n",
    "plt.grid('on')"
   ]
  }
 ],
 "metadata": {
  "kernelspec": {
   "display_name": "Python 3",
   "language": "python",
   "name": "python3"
  },
  "language_info": {
   "codemirror_mode": {
    "name": "ipython",
    "version": 3
   },
   "file_extension": ".py",
   "mimetype": "text/x-python",
   "name": "python",
   "nbconvert_exporter": "python",
   "pygments_lexer": "ipython3",
   "version": "3.6.1"
  }
 },
 "nbformat": 4,
 "nbformat_minor": 2
}
